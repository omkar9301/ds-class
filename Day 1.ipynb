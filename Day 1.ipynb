{
  "cells": [
    {
      "cell_type": "markdown",
      "metadata": {
        "id": "view-in-github",
        "colab_type": "text"
      },
      "source": [
        "<a href=\"https://colab.research.google.com/github/omkar9301/ds-class/blob/main/Day%201.ipynb\" target=\"_parent\"><img src=\"https://colab.research.google.com/assets/colab-badge.svg\" alt=\"Open In Colab\"/></a>"
      ]
    },
    {
      "cell_type": "markdown",
      "id": "bd5dcbd6",
      "metadata": {
        "id": "bd5dcbd6"
      },
      "source": [
        "# Variables\n",
        "- Variables acts as container space to store any data.\n",
        "- It helps us to assign a memory location to a value which can be called whenever we want that value."
      ]
    },
    {
      "cell_type": "code",
      "execution_count": null,
      "id": "da0f99e0",
      "metadata": {
        "id": "da0f99e0",
        "outputId": "76eb789c-8925-4d23-91fb-9190f8457a70"
      },
      "outputs": [
        {
          "ename": "SyntaxError",
          "evalue": "invalid syntax (3046094612.py, line 1)",
          "output_type": "error",
          "traceback": [
            "\u001b[1;36m  Cell \u001b[1;32mIn[67], line 1\u001b[1;36m\u001b[0m\n\u001b[1;33m    first name = 'Aishwarya'\u001b[0m\n\u001b[1;37m          ^\u001b[0m\n\u001b[1;31mSyntaxError\u001b[0m\u001b[1;31m:\u001b[0m invalid syntax\n"
          ]
        }
      ],
      "source": [
        "first name = 'Aishwarya'"
      ]
    },
    {
      "cell_type": "code",
      "execution_count": null,
      "id": "ad4244dd",
      "metadata": {
        "id": "ad4244dd"
      },
      "outputs": [],
      "source": [
        "firstname = 'A'"
      ]
    },
    {
      "cell_type": "code",
      "execution_count": null,
      "id": "f7c0a929",
      "metadata": {
        "id": "f7c0a929"
      },
      "outputs": [],
      "source": [
        "first_name = 'B'"
      ]
    },
    {
      "cell_type": "markdown",
      "id": "6a0aac46",
      "metadata": {
        "id": "6a0aac46"
      },
      "source": [
        "# Comments in python\n",
        "- Single line comment\n",
        "- Multi line comment"
      ]
    },
    {
      "cell_type": "code",
      "execution_count": null,
      "id": "f7a8fd0a",
      "metadata": {
        "id": "f7a8fd0a",
        "outputId": "e98fd83b-7426-4cc2-dcd7-da8fc62b5298"
      },
      "outputs": [
        {
          "data": {
            "text/plain": [
              "'Data Analyst'"
            ]
          },
          "execution_count": 5,
          "metadata": {},
          "output_type": "execute_result"
        }
      ],
      "source": [
        "#CN variable has a value represnting the course which the person has taken.\n",
        "cn = 'Data Analyst'\n",
        "cn"
      ]
    },
    {
      "cell_type": "code",
      "execution_count": null,
      "id": "a3113f9e",
      "metadata": {
        "id": "a3113f9e",
        "outputId": "44c4b8b5-b964-45d0-f6bc-52c2cdc21450"
      },
      "outputs": [
        {
          "ename": "SyntaxError",
          "evalue": "invalid syntax (2988532117.py, line 2)",
          "output_type": "error",
          "traceback": [
            "\u001b[1;36m  Cell \u001b[1;32mIn[6], line 2\u001b[1;36m\u001b[0m\n\u001b[1;33m    This is second line\u001b[0m\n\u001b[1;37m                   ^\u001b[0m\n\u001b[1;31mSyntaxError\u001b[0m\u001b[1;31m:\u001b[0m invalid syntax\n"
          ]
        }
      ],
      "source": [
        "#This is first line\n",
        "This is second line"
      ]
    },
    {
      "cell_type": "code",
      "execution_count": null,
      "id": "0a7aecd0",
      "metadata": {
        "id": "0a7aecd0",
        "outputId": "58bc6493-644d-4107-a119-c49ab24ce377"
      },
      "outputs": [
        {
          "data": {
            "text/plain": [
              "'This is first sentence\\nThis is second line.This is third line'"
            ]
          },
          "execution_count": 13,
          "metadata": {},
          "output_type": "execute_result"
        }
      ],
      "source": [
        "'''This is first sentence\n",
        "This is second line.This is third line'''"
      ]
    },
    {
      "cell_type": "markdown",
      "id": "c63524c5",
      "metadata": {
        "id": "c63524c5"
      },
      "source": [
        "# Data types in Python\n",
        "- There are mainly 4 types of values which can be stored.\n",
        "- These are follows:\n",
        "    - 1.Integer\n",
        "    - 2.Float\n",
        "    - 3.String\n",
        "    - 4.Boolean"
      ]
    },
    {
      "cell_type": "code",
      "execution_count": null,
      "id": "2bb3f6e0",
      "metadata": {
        "id": "2bb3f6e0",
        "outputId": "4d41eb07-b409-459e-d48f-ad0b6f963141"
      },
      "outputs": [
        {
          "data": {
            "text/plain": [
              "102"
            ]
          },
          "execution_count": 14,
          "metadata": {},
          "output_type": "execute_result"
        }
      ],
      "source": [
        "a = 102\n",
        "a"
      ]
    },
    {
      "cell_type": "code",
      "execution_count": null,
      "id": "6703a767",
      "metadata": {
        "id": "6703a767",
        "outputId": "875e7463-1472-4303-e797-dc08580bf971"
      },
      "outputs": [
        {
          "data": {
            "text/plain": [
              "int"
            ]
          },
          "execution_count": 15,
          "metadata": {},
          "output_type": "execute_result"
        }
      ],
      "source": [
        "type(a)"
      ]
    },
    {
      "cell_type": "code",
      "execution_count": null,
      "id": "38f9284b",
      "metadata": {
        "id": "38f9284b",
        "outputId": "ed6fec2c-b0d0-4fb6-fc28-fc59b02684e7"
      },
      "outputs": [
        {
          "data": {
            "text/plain": [
              "float"
            ]
          },
          "execution_count": 16,
          "metadata": {},
          "output_type": "execute_result"
        }
      ],
      "source": [
        "f = 10.2\n",
        "type(f)"
      ]
    },
    {
      "cell_type": "code",
      "execution_count": null,
      "id": "d4d52fae",
      "metadata": {
        "id": "d4d52fae"
      },
      "outputs": [],
      "source": [
        "s = 'We are learning python'\n",
        "s1 = \"We are learning python\"\n",
        "s2 = '''We are learning python'''"
      ]
    },
    {
      "cell_type": "code",
      "execution_count": null,
      "id": "5c65593c",
      "metadata": {
        "id": "5c65593c",
        "outputId": "f29589ec-673e-429c-93a4-42f1d408b3f4"
      },
      "outputs": [
        {
          "data": {
            "text/plain": [
              "\"It's a laptop\""
            ]
          },
          "execution_count": 20,
          "metadata": {},
          "output_type": "execute_result"
        }
      ],
      "source": [
        "s4 = \"It's a laptop\"\n",
        "s4"
      ]
    },
    {
      "cell_type": "code",
      "execution_count": null,
      "id": "baabfbcf",
      "metadata": {
        "id": "baabfbcf",
        "outputId": "caae37aa-2c31-4b3b-c29a-5c2493992415"
      },
      "outputs": [
        {
          "data": {
            "text/plain": [
              "True"
            ]
          },
          "execution_count": 21,
          "metadata": {},
          "output_type": "execute_result"
        }
      ],
      "source": [
        "s == s1"
      ]
    },
    {
      "cell_type": "code",
      "execution_count": null,
      "id": "a91c11f2",
      "metadata": {
        "id": "a91c11f2",
        "outputId": "f5a443f3-e4c7-43f5-b586-8fe5638cc6a0"
      },
      "outputs": [
        {
          "data": {
            "text/plain": [
              "(102, 'We are learning python')"
            ]
          },
          "execution_count": 23,
          "metadata": {},
          "output_type": "execute_result"
        }
      ],
      "source": [
        "a, s"
      ]
    },
    {
      "cell_type": "code",
      "execution_count": null,
      "id": "611e921e",
      "metadata": {
        "id": "611e921e",
        "outputId": "17f67d74-2bc4-4303-b5e0-e59d1e007966"
      },
      "outputs": [
        {
          "data": {
            "text/plain": [
              "False"
            ]
          },
          "execution_count": 24,
          "metadata": {},
          "output_type": "execute_result"
        }
      ],
      "source": [
        "a == s"
      ]
    },
    {
      "cell_type": "code",
      "execution_count": null,
      "id": "6f4af905",
      "metadata": {
        "id": "6f4af905",
        "outputId": "7c36e367-bfa5-4a93-ba77-f9481e9ac55e"
      },
      "outputs": [
        {
          "data": {
            "text/plain": [
              "bool"
            ]
          },
          "execution_count": 27,
          "metadata": {},
          "output_type": "execute_result"
        }
      ],
      "source": [
        "b = True\n",
        "type(b)"
      ]
    },
    {
      "cell_type": "code",
      "execution_count": null,
      "id": "c9f28a6f",
      "metadata": {
        "id": "c9f28a6f",
        "outputId": "b60ca571-81b4-4ce9-bb9c-5ff48efb31e7"
      },
      "outputs": [
        {
          "data": {
            "text/plain": [
              "False"
            ]
          },
          "execution_count": 28,
          "metadata": {},
          "output_type": "execute_result"
        }
      ],
      "source": [
        "f = False\n",
        "f"
      ]
    },
    {
      "cell_type": "markdown",
      "id": "dadea6ca",
      "metadata": {
        "id": "dadea6ca"
      },
      "source": [
        "# Data Structures in Python\n",
        "1. List\n",
        "2. Tuple\n",
        "3. Set\n",
        "4. Dictionary"
      ]
    },
    {
      "cell_type": "code",
      "execution_count": null,
      "id": "6b40ab8e",
      "metadata": {
        "id": "6b40ab8e",
        "outputId": "d5fe132f-5258-4e90-b6e1-2e62ed286327"
      },
      "outputs": [
        {
          "data": {
            "text/plain": [
              "list"
            ]
          },
          "execution_count": 30,
          "metadata": {},
          "output_type": "execute_result"
        }
      ],
      "source": [
        "lst = []\n",
        "type(lst)"
      ]
    },
    {
      "cell_type": "code",
      "execution_count": null,
      "id": "7c7603b1",
      "metadata": {
        "id": "7c7603b1",
        "outputId": "36a92db2-2d5e-4cfc-9def-0bed15a5ab45"
      },
      "outputs": [
        {
          "data": {
            "text/plain": [
              "[10, 2.5, 'A', True]"
            ]
          },
          "execution_count": 48,
          "metadata": {},
          "output_type": "execute_result"
        }
      ],
      "source": [
        "lst = [10,2.5,'A',True]\n",
        "lst"
      ]
    },
    {
      "cell_type": "code",
      "execution_count": null,
      "id": "2bcf4f5e",
      "metadata": {
        "id": "2bcf4f5e",
        "outputId": "67344127-9cf9-48e5-c728-b693effd170a"
      },
      "outputs": [
        {
          "data": {
            "text/plain": [
              "[10, 2.5]"
            ]
          },
          "execution_count": 35,
          "metadata": {},
          "output_type": "execute_result"
        }
      ],
      "source": [
        "lst[0:2]"
      ]
    },
    {
      "cell_type": "code",
      "execution_count": null,
      "id": "65cc9a9b",
      "metadata": {
        "id": "65cc9a9b"
      },
      "outputs": [],
      "source": [
        "lst.append('DS') #shift+tab -> documentation   #tab -> shows list of functions"
      ]
    },
    {
      "cell_type": "code",
      "execution_count": null,
      "id": "2f4f13dc",
      "metadata": {
        "id": "2f4f13dc",
        "outputId": "7943ed92-e10f-40bb-b1f1-340d93acf3bd"
      },
      "outputs": [
        {
          "data": {
            "text/plain": [
              "[10, 2.5, 'A', True, 'DS']"
            ]
          },
          "execution_count": 39,
          "metadata": {},
          "output_type": "execute_result"
        }
      ],
      "source": [
        "lst"
      ]
    },
    {
      "cell_type": "code",
      "execution_count": null,
      "id": "4d4b0552",
      "metadata": {
        "id": "4d4b0552",
        "outputId": "8f6a95b2-b71d-4b8a-9d20-5ff48dfa96ba"
      },
      "outputs": [
        {
          "data": {
            "text/plain": [
              "[10, 2.5, 'A', True, 'DS', [1, 2, 3], [1, 2, 3]]"
            ]
          },
          "execution_count": 46,
          "metadata": {},
          "output_type": "execute_result"
        }
      ],
      "source": [
        "lst.append([1,2,3])\n",
        "'''List inside another list -> nested lists'''\n",
        "lst"
      ]
    },
    {
      "cell_type": "code",
      "execution_count": null,
      "id": "960632ca",
      "metadata": {
        "id": "960632ca",
        "outputId": "6f2b126e-994d-492e-9049-41156838b96e"
      },
      "outputs": [
        {
          "data": {
            "text/plain": [
              "[1, 2, 3]"
            ]
          },
          "execution_count": 41,
          "metadata": {},
          "output_type": "execute_result"
        }
      ],
      "source": [
        "lst1 = [1,2,3]\n",
        "lst2 = [4,5,6]\n",
        "lst1"
      ]
    },
    {
      "cell_type": "code",
      "execution_count": null,
      "id": "9b1c7f36",
      "metadata": {
        "id": "9b1c7f36",
        "outputId": "ff6361b4-e34f-46c7-d1da-e33ed8c5ebbc"
      },
      "outputs": [
        {
          "data": {
            "text/plain": [
              "[1, 2, 3, 4, 5, 6]"
            ]
          },
          "execution_count": 42,
          "metadata": {},
          "output_type": "execute_result"
        }
      ],
      "source": [
        "lst1+lst2"
      ]
    },
    {
      "cell_type": "code",
      "execution_count": null,
      "id": "015cb915",
      "metadata": {
        "id": "015cb915",
        "outputId": "cd105e1f-a0e9-4891-d392-98beb9881d34"
      },
      "outputs": [
        {
          "data": {
            "text/plain": [
              "[10, 2.5, 'A', True, 'DS', [1, 2, 3]]"
            ]
          },
          "execution_count": 43,
          "metadata": {},
          "output_type": "execute_result"
        }
      ],
      "source": [
        "lst"
      ]
    },
    {
      "cell_type": "code",
      "execution_count": null,
      "id": "0bbd3ffc",
      "metadata": {
        "id": "0bbd3ffc",
        "outputId": "919c9de7-68fc-44a6-8c56-15044427046d"
      },
      "outputs": [
        {
          "data": {
            "text/plain": [
              "2"
            ]
          },
          "execution_count": 45,
          "metadata": {},
          "output_type": "execute_result"
        }
      ],
      "source": [
        "lst[5][1]"
      ]
    },
    {
      "cell_type": "code",
      "execution_count": null,
      "id": "b8e60734",
      "metadata": {
        "id": "b8e60734",
        "outputId": "a4565d85-9fc6-471d-fc4f-90ca6c097e79"
      },
      "outputs": [
        {
          "data": {
            "text/plain": [
              "[10, 2.5, 'A', True]"
            ]
          },
          "execution_count": 49,
          "metadata": {},
          "output_type": "execute_result"
        }
      ],
      "source": [
        "lst"
      ]
    },
    {
      "cell_type": "code",
      "execution_count": null,
      "id": "ec08d7ba",
      "metadata": {
        "id": "ec08d7ba"
      },
      "outputs": [],
      "source": [
        "lst.insert(1,255)"
      ]
    },
    {
      "cell_type": "code",
      "execution_count": null,
      "id": "96e88237",
      "metadata": {
        "id": "96e88237",
        "outputId": "f767bd12-a730-4c3a-e2f9-f0a469ecf110"
      },
      "outputs": [
        {
          "data": {
            "text/plain": [
              "[10, 255, 2.5, 'A', True]"
            ]
          },
          "execution_count": 52,
          "metadata": {},
          "output_type": "execute_result"
        }
      ],
      "source": [
        "lst"
      ]
    },
    {
      "cell_type": "code",
      "execution_count": null,
      "id": "0314d45e",
      "metadata": {
        "id": "0314d45e",
        "outputId": "805f9ea6-2210-4fbd-936a-6526bbaa9429"
      },
      "outputs": [
        {
          "data": {
            "text/plain": [
              "True"
            ]
          },
          "execution_count": 53,
          "metadata": {},
          "output_type": "execute_result"
        }
      ],
      "source": [
        "lst.pop()"
      ]
    },
    {
      "cell_type": "code",
      "execution_count": null,
      "id": "f58a8290",
      "metadata": {
        "id": "f58a8290",
        "outputId": "c436e550-a833-4e35-d5e6-123ede6b54aa"
      },
      "outputs": [
        {
          "data": {
            "text/plain": [
              "[10, 255, 2.5, 'A']"
            ]
          },
          "execution_count": 54,
          "metadata": {},
          "output_type": "execute_result"
        }
      ],
      "source": [
        "lst"
      ]
    },
    {
      "cell_type": "code",
      "execution_count": null,
      "id": "3efd5fc7",
      "metadata": {
        "id": "3efd5fc7"
      },
      "outputs": [],
      "source": [
        "lst.remove(255)"
      ]
    },
    {
      "cell_type": "code",
      "execution_count": null,
      "id": "9fc77ee9",
      "metadata": {
        "id": "9fc77ee9",
        "outputId": "9e8fd828-96ed-4cb9-d16b-f49f1df32d59"
      },
      "outputs": [
        {
          "data": {
            "text/plain": [
              "[10, 2.5, 'A']"
            ]
          },
          "execution_count": 56,
          "metadata": {},
          "output_type": "execute_result"
        }
      ],
      "source": [
        "lst"
      ]
    },
    {
      "cell_type": "code",
      "execution_count": null,
      "id": "ed316b1a",
      "metadata": {
        "id": "ed316b1a"
      },
      "outputs": [],
      "source": [
        "lst.append(55)"
      ]
    },
    {
      "cell_type": "code",
      "execution_count": null,
      "id": "53d45d01",
      "metadata": {
        "id": "53d45d01",
        "outputId": "5159a38d-8ff6-453f-f9af-2ed86d887c03"
      },
      "outputs": [
        {
          "data": {
            "text/plain": [
              "[10, 2.5, 'A', 55, 55, 55]"
            ]
          },
          "execution_count": 62,
          "metadata": {},
          "output_type": "execute_result"
        }
      ],
      "source": [
        "lst"
      ]
    },
    {
      "cell_type": "code",
      "execution_count": null,
      "id": "b80976a7",
      "metadata": {
        "id": "b80976a7",
        "outputId": "43c60a60-788d-4b88-e455-c7bd633b4b4b"
      },
      "outputs": [
        {
          "data": {
            "text/plain": [
              "55"
            ]
          },
          "execution_count": 65,
          "metadata": {},
          "output_type": "execute_result"
        }
      ],
      "source": [
        "lst.pop()"
      ]
    },
    {
      "cell_type": "code",
      "execution_count": null,
      "id": "d1df3941",
      "metadata": {
        "id": "d1df3941",
        "outputId": "8e9b5e83-0cb2-4e0e-8847-a1ad401a1577"
      },
      "outputs": [
        {
          "data": {
            "text/plain": [
              "[10, 2.5, 'A', 55]"
            ]
          },
          "execution_count": 66,
          "metadata": {},
          "output_type": "execute_result"
        }
      ],
      "source": [
        "lst"
      ]
    },
    {
      "cell_type": "markdown",
      "id": "cdd99625",
      "metadata": {
        "id": "cdd99625"
      },
      "source": [
        "**Tuple**"
      ]
    },
    {
      "cell_type": "code",
      "execution_count": null,
      "id": "9b2b7d63",
      "metadata": {
        "id": "9b2b7d63",
        "outputId": "22fa444e-f33f-468a-fa64-16ccdc7a2fbb"
      },
      "outputs": [
        {
          "data": {
            "text/plain": [
              "tuple"
            ]
          },
          "execution_count": 68,
          "metadata": {},
          "output_type": "execute_result"
        }
      ],
      "source": [
        "t = ()\n",
        "type(t)"
      ]
    },
    {
      "cell_type": "code",
      "execution_count": null,
      "id": "f4bc2cfd",
      "metadata": {
        "id": "f4bc2cfd",
        "outputId": "49e91a64-8356-4e22-f129-2b6a900515de"
      },
      "outputs": [
        {
          "data": {
            "text/plain": [
              "(1, 2, 3, 4, 5, 'A', False)"
            ]
          },
          "execution_count": 75,
          "metadata": {},
          "output_type": "execute_result"
        }
      ],
      "source": [
        "t = (1,2,3,4,5,'A',False)\n",
        "t"
      ]
    },
    {
      "cell_type": "code",
      "execution_count": null,
      "id": "f981892f",
      "metadata": {
        "id": "f981892f",
        "outputId": "a30ff2db-ceb9-4e77-a5c3-b31dbfc9fc34"
      },
      "outputs": [
        {
          "data": {
            "text/plain": [
              "0"
            ]
          },
          "execution_count": 77,
          "metadata": {},
          "output_type": "execute_result"
        }
      ],
      "source": [
        "t.count('True')"
      ]
    },
    {
      "cell_type": "code",
      "execution_count": null,
      "id": "acedd29a",
      "metadata": {
        "id": "acedd29a",
        "outputId": "228d57eb-8c8a-4d46-9e1e-b7ebe5b15311"
      },
      "outputs": [
        {
          "data": {
            "text/plain": [
              "4"
            ]
          },
          "execution_count": 73,
          "metadata": {},
          "output_type": "execute_result"
        }
      ],
      "source": [
        "t.index('A')"
      ]
    },
    {
      "cell_type": "code",
      "execution_count": null,
      "id": "6a881348",
      "metadata": {
        "id": "6a881348",
        "outputId": "9bd33cba-eeb2-4d9a-8695-ee2e03c41257"
      },
      "outputs": [
        {
          "data": {
            "text/plain": [
              "2"
            ]
          },
          "execution_count": 74,
          "metadata": {},
          "output_type": "execute_result"
        }
      ],
      "source": [
        "t1 = (10,10,1,2,3,5,6)\n",
        "t1.count(10)"
      ]
    },
    {
      "cell_type": "markdown",
      "id": "f3607701",
      "metadata": {
        "id": "f3607701"
      },
      "source": [
        "**Dictionary**\n",
        "\n",
        "- Add the values in the form of key-value pairs."
      ]
    },
    {
      "cell_type": "code",
      "execution_count": null,
      "id": "d8daef5e",
      "metadata": {
        "id": "d8daef5e",
        "outputId": "ef2a563b-c665-435d-f4c9-cbadbecf33b6"
      },
      "outputs": [
        {
          "data": {
            "text/plain": [
              "dict"
            ]
          },
          "execution_count": 78,
          "metadata": {},
          "output_type": "execute_result"
        }
      ],
      "source": [
        "d = {}\n",
        "\n",
        "type(d)"
      ]
    },
    {
      "cell_type": "code",
      "execution_count": null,
      "id": "5131f4de",
      "metadata": {
        "id": "5131f4de"
      },
      "outputs": [],
      "source": [
        "d = {\n",
        "    'name': 'xyz',\n",
        "    'age' : 25,\n",
        "    'location' :'Pune'\n",
        "}"
      ]
    },
    {
      "cell_type": "code",
      "execution_count": null,
      "id": "8c3e9a81",
      "metadata": {
        "id": "8c3e9a81",
        "outputId": "f066cbc7-1516-41a8-b95d-3dccce495cbd"
      },
      "outputs": [
        {
          "data": {
            "text/plain": [
              "{'name': 'xyz', 'age': 25, 'location': 'Pune'}"
            ]
          },
          "execution_count": 80,
          "metadata": {},
          "output_type": "execute_result"
        }
      ],
      "source": [
        "d"
      ]
    },
    {
      "cell_type": "code",
      "execution_count": null,
      "id": "bd960841",
      "metadata": {
        "id": "bd960841"
      },
      "outputs": [],
      "source": [
        "d.update({'course':'DS','DOJ' : 'DEC 2023'})"
      ]
    },
    {
      "cell_type": "code",
      "execution_count": null,
      "id": "705df7c1",
      "metadata": {
        "scrolled": true,
        "id": "705df7c1",
        "outputId": "5a87224b-17b8-40a8-c6c7-211a9a58dc40"
      },
      "outputs": [
        {
          "data": {
            "text/plain": [
              "{'name': 'xyz',\n",
              " 'age': 25,\n",
              " 'location': 'Pune',\n",
              " 'course': 'DS',\n",
              " 'DOJ': 'DEC 2023'}"
            ]
          },
          "execution_count": 82,
          "metadata": {},
          "output_type": "execute_result"
        }
      ],
      "source": [
        "d"
      ]
    },
    {
      "cell_type": "code",
      "execution_count": null,
      "id": "275b38a6",
      "metadata": {
        "id": "275b38a6",
        "outputId": "fa6474e2-180a-4582-dd0e-9587570146ad"
      },
      "outputs": [
        {
          "data": {
            "text/plain": [
              "'DEC 2023'"
            ]
          },
          "execution_count": 84,
          "metadata": {},
          "output_type": "execute_result"
        }
      ],
      "source": [
        "d.pop('DOJ')"
      ]
    },
    {
      "cell_type": "code",
      "execution_count": null,
      "id": "2f9686e8",
      "metadata": {
        "id": "2f9686e8",
        "outputId": "a07c4b33-cfa3-4441-f012-84715c68f035"
      },
      "outputs": [
        {
          "data": {
            "text/plain": [
              "{'name': 'xyz', 'age': 25, 'location': 'Pune', 'course': 'DS'}"
            ]
          },
          "execution_count": 85,
          "metadata": {},
          "output_type": "execute_result"
        }
      ],
      "source": [
        "d"
      ]
    },
    {
      "cell_type": "code",
      "execution_count": null,
      "id": "55a76480",
      "metadata": {
        "id": "55a76480",
        "outputId": "59e83d8e-966e-4cb7-af0b-1445a5c703df"
      },
      "outputs": [
        {
          "data": {
            "text/plain": [
              "dict_keys(['name', 'age', 'location', 'course'])"
            ]
          },
          "execution_count": 86,
          "metadata": {},
          "output_type": "execute_result"
        }
      ],
      "source": [
        "d.keys()"
      ]
    },
    {
      "cell_type": "code",
      "execution_count": null,
      "id": "88f1e50c",
      "metadata": {
        "id": "88f1e50c",
        "outputId": "9ce00aa5-a63b-4bea-e516-7fbd4ffcc27d"
      },
      "outputs": [
        {
          "data": {
            "text/plain": [
              "dict_values(['xyz', 25, 'Pune', 'DS'])"
            ]
          },
          "execution_count": 87,
          "metadata": {},
          "output_type": "execute_result"
        }
      ],
      "source": [
        "d.values()"
      ]
    },
    {
      "cell_type": "markdown",
      "id": "af7efd0b",
      "metadata": {
        "id": "af7efd0b"
      },
      "source": [
        "**Sets**\n",
        "\n",
        "- Sets are immutable\n",
        "- Sets are unordered\n",
        "- Sets do not allow indexing\n",
        "- Sets do not allow duplicated records"
      ]
    },
    {
      "cell_type": "code",
      "execution_count": null,
      "id": "bb2e9e92",
      "metadata": {
        "id": "bb2e9e92",
        "outputId": "44ca088b-6229-4950-db88-24039d857bd3"
      },
      "outputs": [
        {
          "data": {
            "text/plain": [
              "set"
            ]
          },
          "execution_count": 95,
          "metadata": {},
          "output_type": "execute_result"
        }
      ],
      "source": [
        "s = {1,2,3,4,5,'ABC'}\n",
        "type(s)"
      ]
    },
    {
      "cell_type": "code",
      "execution_count": null,
      "id": "9a107c19",
      "metadata": {
        "id": "9a107c19",
        "outputId": "5b7bc819-0b83-435e-f979-3e522cc68902"
      },
      "outputs": [
        {
          "data": {
            "text/plain": [
              "{1, 2, 3, 4, 5, 'ABC'}"
            ]
          },
          "execution_count": 96,
          "metadata": {},
          "output_type": "execute_result"
        }
      ],
      "source": [
        "s"
      ]
    },
    {
      "cell_type": "code",
      "execution_count": null,
      "id": "ad728247",
      "metadata": {
        "id": "ad728247"
      },
      "outputs": [],
      "source": [
        "s.add(50)"
      ]
    },
    {
      "cell_type": "code",
      "execution_count": null,
      "id": "e6544811",
      "metadata": {
        "id": "e6544811",
        "outputId": "723f19bb-193b-48da-ee48-6066868f31e2"
      },
      "outputs": [
        {
          "data": {
            "text/plain": [
              "{1, 2, 3, 4, 5, 50, 'ABC'}"
            ]
          },
          "execution_count": 98,
          "metadata": {},
          "output_type": "execute_result"
        }
      ],
      "source": [
        "s"
      ]
    },
    {
      "cell_type": "code",
      "execution_count": null,
      "id": "fe1d493a",
      "metadata": {
        "id": "fe1d493a",
        "outputId": "007c8b62-c68a-4444-ca4b-d96b25388c89"
      },
      "outputs": [
        {
          "data": {
            "text/plain": [
              "1"
            ]
          },
          "execution_count": 99,
          "metadata": {},
          "output_type": "execute_result"
        }
      ],
      "source": [
        "s.pop()"
      ]
    },
    {
      "cell_type": "code",
      "execution_count": null,
      "id": "d7ae383f",
      "metadata": {
        "id": "d7ae383f",
        "outputId": "b78213d3-013b-428d-85bf-0c1c203ec6a1"
      },
      "outputs": [
        {
          "ename": "TypeError",
          "evalue": "'set' object is not subscriptable",
          "output_type": "error",
          "traceback": [
            "\u001b[1;31m---------------------------------------------------------------------------\u001b[0m",
            "\u001b[1;31mTypeError\u001b[0m                                 Traceback (most recent call last)",
            "Cell \u001b[1;32mIn[100], line 1\u001b[0m\n\u001b[1;32m----> 1\u001b[0m s[\u001b[38;5;241m0\u001b[39m]\n",
            "\u001b[1;31mTypeError\u001b[0m: 'set' object is not subscriptable"
          ]
        }
      ],
      "source": [
        "s[0]"
      ]
    },
    {
      "cell_type": "code",
      "execution_count": null,
      "id": "a1d06702",
      "metadata": {
        "id": "a1d06702"
      },
      "outputs": [],
      "source": [
        "s1 = {10,10,10,2,3,6,5}"
      ]
    },
    {
      "cell_type": "code",
      "execution_count": null,
      "id": "a507813a",
      "metadata": {
        "id": "a507813a",
        "outputId": "8ebc0ed9-9254-4889-cb32-7a9d5de0dea9"
      },
      "outputs": [
        {
          "data": {
            "text/plain": [
              "{2, 3, 5, 6, 10}"
            ]
          },
          "execution_count": 102,
          "metadata": {},
          "output_type": "execute_result"
        }
      ],
      "source": [
        "s1"
      ]
    },
    {
      "cell_type": "markdown",
      "id": "167ec3b8",
      "metadata": {
        "id": "167ec3b8"
      },
      "source": [
        "# Operators in Python\n",
        "![Operators.png](attachment:Operators.png)"
      ]
    },
    {
      "cell_type": "code",
      "execution_count": null,
      "id": "cb371d2b",
      "metadata": {
        "id": "cb371d2b"
      },
      "outputs": [],
      "source": [
        "a = 10\n",
        "b = 5"
      ]
    },
    {
      "cell_type": "code",
      "execution_count": null,
      "id": "7747cf20",
      "metadata": {
        "id": "7747cf20",
        "outputId": "5c2607ca-4afe-43e7-c57b-830cc700874e"
      },
      "outputs": [
        {
          "data": {
            "text/plain": [
              "15"
            ]
          },
          "execution_count": 4,
          "metadata": {},
          "output_type": "execute_result"
        }
      ],
      "source": [
        "c = a+b\n",
        "c"
      ]
    },
    {
      "cell_type": "code",
      "execution_count": null,
      "id": "90041fb8",
      "metadata": {
        "id": "90041fb8",
        "outputId": "94aa8922-4da0-4a39-a148-41739263725a"
      },
      "outputs": [
        {
          "data": {
            "text/plain": [
              "50"
            ]
          },
          "execution_count": 5,
          "metadata": {},
          "output_type": "execute_result"
        }
      ],
      "source": [
        "a*b"
      ]
    },
    {
      "cell_type": "code",
      "execution_count": null,
      "id": "dedcd240",
      "metadata": {
        "id": "dedcd240",
        "outputId": "dbb6f511-a7e3-4d58-a581-4e4ba899bccf"
      },
      "outputs": [
        {
          "data": {
            "text/plain": [
              "5"
            ]
          },
          "execution_count": 6,
          "metadata": {},
          "output_type": "execute_result"
        }
      ],
      "source": [
        "a-b"
      ]
    },
    {
      "cell_type": "code",
      "execution_count": null,
      "id": "ebe4a2f5",
      "metadata": {
        "id": "ebe4a2f5"
      },
      "outputs": [],
      "source": [
        "#Comparison operators"
      ]
    },
    {
      "cell_type": "code",
      "execution_count": null,
      "id": "25340847",
      "metadata": {
        "id": "25340847",
        "outputId": "862ae4c3-d5e1-45c4-a3cf-f84407cbc10b"
      },
      "outputs": [
        {
          "data": {
            "text/plain": [
              "(10, 5)"
            ]
          },
          "execution_count": 8,
          "metadata": {},
          "output_type": "execute_result"
        }
      ],
      "source": [
        "a,b"
      ]
    },
    {
      "cell_type": "code",
      "execution_count": null,
      "id": "1fc7d4af",
      "metadata": {
        "id": "1fc7d4af",
        "outputId": "8b2320b1-2e9c-46b8-8840-13b04e6c401d"
      },
      "outputs": [
        {
          "data": {
            "text/plain": [
              "False"
            ]
          },
          "execution_count": 9,
          "metadata": {},
          "output_type": "execute_result"
        }
      ],
      "source": [
        "a == b"
      ]
    },
    {
      "cell_type": "code",
      "execution_count": null,
      "id": "9be459b6",
      "metadata": {
        "id": "9be459b6",
        "outputId": "08012252-24fd-44d9-aa20-6da696192f41"
      },
      "outputs": [
        {
          "data": {
            "text/plain": [
              "True"
            ]
          },
          "execution_count": 10,
          "metadata": {},
          "output_type": "execute_result"
        }
      ],
      "source": [
        "a != b"
      ]
    },
    {
      "cell_type": "code",
      "execution_count": null,
      "id": "2d6561f2",
      "metadata": {
        "id": "2d6561f2",
        "outputId": "71e7fa9f-ee38-436f-e41a-45e4525ee5b5"
      },
      "outputs": [
        {
          "data": {
            "text/plain": [
              "True"
            ]
          },
          "execution_count": 11,
          "metadata": {},
          "output_type": "execute_result"
        }
      ],
      "source": [
        "a > b"
      ]
    },
    {
      "cell_type": "code",
      "execution_count": null,
      "id": "4787c1b1",
      "metadata": {
        "id": "4787c1b1",
        "outputId": "455c4ecb-c7bb-4154-cbb3-a4ea09a7cbc5"
      },
      "outputs": [
        {
          "data": {
            "text/plain": [
              "True"
            ]
          },
          "execution_count": 12,
          "metadata": {},
          "output_type": "execute_result"
        }
      ],
      "source": [
        "a >= b"
      ]
    },
    {
      "cell_type": "code",
      "execution_count": null,
      "id": "a413c414",
      "metadata": {
        "id": "a413c414"
      },
      "outputs": [],
      "source": [
        "#Logical operators"
      ]
    },
    {
      "cell_type": "code",
      "execution_count": null,
      "id": "8d3c61f8",
      "metadata": {
        "id": "8d3c61f8"
      },
      "outputs": [],
      "source": [
        "x = 500\n",
        "y = 550"
      ]
    },
    {
      "cell_type": "code",
      "execution_count": null,
      "id": "a29566ec",
      "metadata": {
        "id": "a29566ec",
        "outputId": "666d63ee-f9ab-42e4-d474-3a94663e8b12"
      },
      "outputs": [
        {
          "data": {
            "text/plain": [
              "True"
            ]
          },
          "execution_count": 16,
          "metadata": {},
          "output_type": "execute_result"
        }
      ],
      "source": [
        "x < y and x == 500"
      ]
    },
    {
      "cell_type": "code",
      "execution_count": null,
      "id": "39419887",
      "metadata": {
        "id": "39419887",
        "outputId": "a7ba54e9-2eef-4e8e-8d5d-db8a6a2b103b"
      },
      "outputs": [
        {
          "data": {
            "text/plain": [
              "False"
            ]
          },
          "execution_count": 33,
          "metadata": {},
          "output_type": "execute_result"
        }
      ],
      "source": [
        "x > y and x == 500 and x <900"
      ]
    },
    {
      "cell_type": "code",
      "execution_count": null,
      "id": "0f6f9dc0",
      "metadata": {
        "id": "0f6f9dc0",
        "outputId": "b54cd6be-56eb-40b2-a486-5e906ebefe50"
      },
      "outputs": [
        {
          "data": {
            "text/plain": [
              "True"
            ]
          },
          "execution_count": 18,
          "metadata": {},
          "output_type": "execute_result"
        }
      ],
      "source": [
        "x > y or x == 500"
      ]
    },
    {
      "cell_type": "code",
      "execution_count": null,
      "id": "f76c452d",
      "metadata": {
        "id": "f76c452d"
      },
      "outputs": [],
      "source": [
        "#identity"
      ]
    },
    {
      "cell_type": "code",
      "execution_count": null,
      "id": "bf178495",
      "metadata": {
        "id": "bf178495",
        "outputId": "001bf941-5442-4213-be1a-456d3d43e08c"
      },
      "outputs": [
        {
          "data": {
            "text/plain": [
              "(500, 550)"
            ]
          },
          "execution_count": 20,
          "metadata": {},
          "output_type": "execute_result"
        }
      ],
      "source": [
        "x,y"
      ]
    },
    {
      "cell_type": "code",
      "execution_count": null,
      "id": "2aa5dbe4",
      "metadata": {
        "id": "2aa5dbe4",
        "outputId": "a27e88b9-b9cc-4a7a-f95e-0e60f88bda51"
      },
      "outputs": [
        {
          "data": {
            "text/plain": [
              "False"
            ]
          },
          "execution_count": 21,
          "metadata": {},
          "output_type": "execute_result"
        }
      ],
      "source": [
        "x == y"
      ]
    },
    {
      "cell_type": "code",
      "execution_count": null,
      "id": "1d37dcc7",
      "metadata": {
        "id": "1d37dcc7",
        "outputId": "4be055bc-d0dc-464b-bbca-54b78c8e6b61"
      },
      "outputs": [
        {
          "data": {
            "text/plain": [
              "False"
            ]
          },
          "execution_count": 22,
          "metadata": {},
          "output_type": "execute_result"
        }
      ],
      "source": [
        "x is y"
      ]
    },
    {
      "cell_type": "code",
      "execution_count": null,
      "id": "d47934f3",
      "metadata": {
        "id": "d47934f3",
        "outputId": "17874489-6cec-41a3-8c50-15fae6040b4f"
      },
      "outputs": [
        {
          "data": {
            "text/plain": [
              "True"
            ]
          },
          "execution_count": 23,
          "metadata": {},
          "output_type": "execute_result"
        }
      ],
      "source": [
        "x != y"
      ]
    },
    {
      "cell_type": "code",
      "execution_count": null,
      "id": "609a9938",
      "metadata": {
        "id": "609a9938",
        "outputId": "f96bc6ea-d9c3-4052-a52b-16d941389cfd"
      },
      "outputs": [
        {
          "data": {
            "text/plain": [
              "True"
            ]
          },
          "execution_count": 24,
          "metadata": {},
          "output_type": "execute_result"
        }
      ],
      "source": [
        "x is not y"
      ]
    },
    {
      "cell_type": "code",
      "execution_count": null,
      "id": "8921b6b6",
      "metadata": {
        "id": "8921b6b6"
      },
      "outputs": [],
      "source": [
        "#Membership"
      ]
    },
    {
      "cell_type": "code",
      "execution_count": null,
      "id": "a6343e8a",
      "metadata": {
        "id": "a6343e8a"
      },
      "outputs": [],
      "source": [
        "st = 'Python'\n",
        "lst = [10,20,30,50,60,85,95]"
      ]
    },
    {
      "cell_type": "code",
      "execution_count": null,
      "id": "9ff51a9f",
      "metadata": {
        "id": "9ff51a9f",
        "outputId": "d4d9ed2c-c629-451f-bc00-06f9e1e77ca9"
      },
      "outputs": [
        {
          "data": {
            "text/plain": [
              "True"
            ]
          },
          "execution_count": 28,
          "metadata": {},
          "output_type": "execute_result"
        }
      ],
      "source": [
        "'P' in st"
      ]
    },
    {
      "cell_type": "code",
      "execution_count": null,
      "id": "c361bf6e",
      "metadata": {
        "scrolled": true,
        "id": "c361bf6e",
        "outputId": "fba5787f-4493-4c1d-d109-95f6f5d7b594"
      },
      "outputs": [
        {
          "data": {
            "text/plain": [
              "False"
            ]
          },
          "execution_count": 29,
          "metadata": {},
          "output_type": "execute_result"
        }
      ],
      "source": [
        "'p' in st"
      ]
    },
    {
      "cell_type": "code",
      "execution_count": null,
      "id": "edc45a4c",
      "metadata": {
        "id": "edc45a4c",
        "outputId": "ddb99fc1-b1f1-4883-c23e-02a7d7bd6a26"
      },
      "outputs": [
        {
          "data": {
            "text/plain": [
              "True"
            ]
          },
          "execution_count": 30,
          "metadata": {},
          "output_type": "execute_result"
        }
      ],
      "source": [
        "85 in lst"
      ]
    },
    {
      "cell_type": "code",
      "execution_count": null,
      "id": "081da732",
      "metadata": {
        "id": "081da732",
        "outputId": "63e70e40-4191-4653-8d19-5434194ef823"
      },
      "outputs": [
        {
          "data": {
            "text/plain": [
              "False"
            ]
          },
          "execution_count": 31,
          "metadata": {},
          "output_type": "execute_result"
        }
      ],
      "source": [
        "'85' in lst"
      ]
    },
    {
      "cell_type": "code",
      "execution_count": null,
      "id": "dbc147bb",
      "metadata": {
        "id": "dbc147bb",
        "outputId": "04453f7b-a127-4533-b319-c4a1b8581466"
      },
      "outputs": [
        {
          "data": {
            "text/plain": [
              "True"
            ]
          },
          "execution_count": 32,
          "metadata": {},
          "output_type": "execute_result"
        }
      ],
      "source": [
        "'A' not in st"
      ]
    },
    {
      "cell_type": "code",
      "execution_count": null,
      "id": "7f00ba68",
      "metadata": {
        "id": "7f00ba68"
      },
      "outputs": [],
      "source": []
    }
  ],
  "metadata": {
    "kernelspec": {
      "display_name": "Python 3 (ipykernel)",
      "language": "python",
      "name": "python3"
    },
    "language_info": {
      "codemirror_mode": {
        "name": "ipython",
        "version": 3
      },
      "file_extension": ".py",
      "mimetype": "text/x-python",
      "name": "python",
      "nbconvert_exporter": "python",
      "pygments_lexer": "ipython3",
      "version": "3.11.5"
    },
    "colab": {
      "provenance": [],
      "include_colab_link": true
    }
  },
  "nbformat": 4,
  "nbformat_minor": 5
}